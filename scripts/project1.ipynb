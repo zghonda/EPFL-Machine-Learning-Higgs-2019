{
 "cells": [
  {
   "cell_type": "code",
   "execution_count": 1,
   "metadata": {},
   "outputs": [],
   "source": [
    "# Useful starting lines\n",
    "%matplotlib inline\n",
    "import numpy as np\n",
    "import matplotlib.pyplot as plt\n",
    "from proj1_helpers import *\n",
    "from implementations import *\n",
    "from train import *\n",
    "\n",
    "%load_ext autoreload\n",
    "%autoreload 2"
   ]
  },
  {
   "cell_type": "markdown",
   "metadata": {},
   "source": [
    "## Load the training data into feature matrix, class labels, and event ids:"
   ]
  },
  {
   "cell_type": "code",
   "execution_count": 2,
   "metadata": {},
   "outputs": [],
   "source": [
    "DATA_TRAIN_PATH = '../data/train.csv'\n",
    "y, tX, ids = load_csv_data(DATA_TRAIN_PATH)"
   ]
  },
  {
   "cell_type": "code",
   "execution_count": 3,
   "metadata": {},
   "outputs": [],
   "source": [
    "DATA_TEST_PATH = '../data/test.csv' \n",
    "_, tX_test, ids_test = load_csv_data(DATA_TEST_PATH)"
   ]
  },
  {
   "cell_type": "markdown",
   "metadata": {},
   "source": [
    "## Do your thing crazy machine learning thing here :) ..."
   ]
  },
  {
   "cell_type": "code",
   "execution_count": 4,
   "metadata": {},
   "outputs": [],
   "source": [
    "# compute the best hyperparameters for regularized optimization\n",
    "def best_hyperparameters_accuracy(y, tx, degrees, lambdas, k_fold, seed=1):\n",
    "    # for each degree, store the best lambda and the respective loss\n",
    "    ###losses = []\n",
    "    lambdas_best = []\n",
    "    accuracies = []\n",
    "    \n",
    "    # build k indices for k-fold\n",
    "    k_indices = build_k_indices(y, k_fold, seed)\n",
    "    \n",
    "    # compute cross validation with all lambdas for each degree\n",
    "    for degree in degrees:\n",
    "        \n",
    "        # store the loss, respective to the lambdas\n",
    "        ###losses_test = []\n",
    "        accuracies_lambda = []\n",
    "        \n",
    "        # compute cross validation for each lambda of the specific degree\n",
    "        for lambda_ in lambdas:\n",
    "        \n",
    "            # to compute the total loss of each lambda by storing the loss for each iteration \n",
    "            # of the k-fold and computing the mean\n",
    "            ###losses_test_tmp = []\n",
    "            accuracies_tmp = []\n",
    "        \n",
    "            # compute loss for each iteration of the k_fold\n",
    "            for k in range(k_fold):\n",
    "                weigths, loss_train, loss_test = cross_validation(y, tx, k_indices, k, lambda_, degree)\n",
    "                ###losses_test_tmp.append(loss_test)\n",
    "                y_pred = predict_labels(weights, build_poly(tx, degree))\n",
    "                accuracies_tmp.append(performance_measure(y_pred, y))\n",
    "            \n",
    "            #compute the loss for the specific lambda by taking the mean of the losses of each iteration of the k-fold\n",
    "            accuracies_lambda.append(np.mean(accuracies_tmp))\n",
    "        \n",
    "        # find the optimal lambda hyperparameter by getting the minimum loss for each degree\n",
    "        best_lambda_index = np.argmax(accuracies_lambda)\n",
    "        lambdas_best.append(lambdas[best_lambda_index])\n",
    "        accuracies.append(accuracies_lambda[best_lambda_index])\n",
    "        \n",
    "    # find the optimal degree hyperparameter by getting the minimum loss\n",
    "    best_degree_index = np.argmax(accuracies)\n",
    "    \n",
    "    # compute the optimal hyperparameters\n",
    "    opt_degree = degrees[best_degree_index]\n",
    "    opt_lambda = lambdas_best[best_degree_index]\n",
    "    \n",
    "    \n",
    "    return opt_degree, opt_lambda"
   ]
  },
  {
   "cell_type": "code",
   "execution_count": 7,
   "metadata": {},
   "outputs": [],
   "source": [
    "tX = np.where(tX==-999, np.NaN, tX)\n",
    "best_weights, best_degree = train_models(y, tX, np.arange(2, 8), np.logspace(-4, 0, 30), 4)"
   ]
  },
  {
   "cell_type": "code",
   "execution_count": 8,
   "metadata": {},
   "outputs": [
    {
     "data": {
      "text/plain": [
       "[7, 6, 7, 7, 6, 7]"
      ]
     },
     "execution_count": 8,
     "metadata": {},
     "output_type": "execute_result"
    }
   ],
   "source": [
    "best_degree"
   ]
  },
  {
   "cell_type": "markdown",
   "metadata": {},
   "source": [
    "## Generate predictions and save ouput in csv format for submission:"
   ]
  },
  {
   "cell_type": "code",
   "execution_count": 9,
   "metadata": {},
   "outputs": [],
   "source": [
    "tX_test = np.where(tX_test==-999, np.NaN, tX_test)"
   ]
  },
  {
   "cell_type": "code",
   "execution_count": 10,
   "metadata": {},
   "outputs": [],
   "source": [
    "indices_test_group = group_indices(tX_test)"
   ]
  },
  {
   "cell_type": "code",
   "execution_count": 11,
   "metadata": {},
   "outputs": [
    {
     "data": {
      "text/plain": [
       "array([-1., -1., -1., ...,  1., -1., -1.])"
      ]
     },
     "execution_count": 11,
     "metadata": {},
     "output_type": "execute_result"
    }
   ],
   "source": [
    "y_pred = np.zeros(tX_test.shape[0])\n",
    "for i, indice_test_group in enumerate(indices_test_group):\n",
    "    y_pred_subset = predict_labels(best_weights[i], build_poly(drop_na_columns(tX_test[indice_test_group]), best_degree[i]))\n",
    "    y_pred[indice_test_group] = y_pred_subset\n",
    "    \n",
    "    \n",
    "y_pred"
   ]
  },
  {
   "cell_type": "code",
   "execution_count": 12,
   "metadata": {},
   "outputs": [],
   "source": [
    "OUTPUT_PATH = '../data/sample-submission_test.csv' \n",
    "create_csv_submission(ids_test, y_pred, OUTPUT_PATH)"
   ]
  },
  {
   "cell_type": "code",
   "execution_count": null,
   "metadata": {},
   "outputs": [],
   "source": []
  }
 ],
 "metadata": {
  "anaconda-cloud": {},
  "kernelspec": {
   "display_name": "Python 3",
   "language": "python",
   "name": "python3"
  },
  "language_info": {
   "codemirror_mode": {
    "name": "ipython",
    "version": 3
   },
   "file_extension": ".py",
   "mimetype": "text/x-python",
   "name": "python",
   "nbconvert_exporter": "python",
   "pygments_lexer": "ipython3",
   "version": "3.7.4"
  }
 },
 "nbformat": 4,
 "nbformat_minor": 1
}
