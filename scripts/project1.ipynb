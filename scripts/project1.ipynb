{
 "cells": [
  {
   "cell_type": "code",
   "execution_count": 1,
   "metadata": {},
   "outputs": [],
   "source": [
    "# Useful starting lines\n",
    "%matplotlib inline\n",
    "import numpy as np \n",
    "import matplotlib.pyplot as plt\n",
    "%load_ext autoreload\n",
    "%autoreload 2"
   ]
  },
  {
   "cell_type": "markdown",
   "metadata": {},
   "source": [
    "## Load the training data into feature matrix, class labels, and event ids:"
   ]
  },
  {
   "cell_type": "code",
   "execution_count": 113,
   "metadata": {},
   "outputs": [],
   "source": [
    "from proj1_helpers import *\n",
    "DATA_TRAIN_PATH = 'C:\\\\Users\\\\asus\\\\Documents\\\\GitHub\\\\ML_course\\\\projects\\\\project1\\\\data\\\\train.csv' # TODO: download train data and supply path here \n",
    "y, tX, ids = load_csv_data(DATA_TRAIN_PATH)"
   ]
  },
  {
   "cell_type": "markdown",
   "metadata": {},
   "source": [
    "## Do your thing crazy machine learning thing here :) ..."
   ]
  },
  {
   "cell_type": "code",
   "execution_count": 101,
   "metadata": {},
   "outputs": [],
   "source": [
    "from implementations import *"
   ]
  },
  {
   "cell_type": "code",
   "execution_count": 109,
   "metadata": {},
   "outputs": [],
   "source": [
    "#Normalize the data\n",
    "tX[tX == 999] = 0\n",
    "centered_data = tX - np.mean(tX, axis=0)\n",
    "tX = centered_data / np.std(centered_data, axis=0)\n",
    "y[y == -1] = 0"
   ]
  },
  {
   "cell_type": "code",
   "execution_count": 53,
   "metadata": {},
   "outputs": [
    {
     "name": "stdout",
     "output_type": "stream",
     "text": [
      "9 29\n"
     ]
    }
   ],
   "source": [
    "#Find the correlations btw all columns and delete rows that are highly correlated\n",
    "corr_mtx = np.identity(30)\n",
    "for i in range(31):\n",
    "    for j in range(i,30):\n",
    "        corr_mtx[i,j] = np.corrcoef(tX[:,i], tX[:,j])[0,1]\n",
    "        if corr_mtx[i,j]>0.95 and i!=j:\n",
    "            print(i,j)"
   ]
  },
  {
   "cell_type": "code",
   "execution_count": 117,
   "metadata": {},
   "outputs": [],
   "source": [
    "tX = np.delete(tX, np.array([6, 12,24,25,26,27,28,29]), axis=1)"
   ]
  },
  {
   "cell_type": "code",
   "execution_count": 118,
   "metadata": {},
   "outputs": [
    {
     "data": {
      "text/plain": [
       "(array([ 2.75979888e+41, -2.77594808e+41, -2.18727219e+41, -4.63372009e+40,\n",
       "         4.23147376e+44,  7.23648775e+41, -1.59731209e+42, -1.90967100e+40,\n",
       "        -2.10838330e+41, -2.57527896e+41,  1.04456898e+42, -1.69466843e+41,\n",
       "         2.12740443e+40,  1.37651034e+40, -2.84377908e+41,  3.81674554e+40,\n",
       "        -4.97727221e+40, -4.46420335e+40,  1.85721211e+40, -2.86474553e+41,\n",
       "        -5.21946685e+41,  1.71686398e+42]), 1.754538632515877e+93)"
      ]
     },
     "execution_count": 118,
     "metadata": {},
     "output_type": "execute_result"
    }
   ],
   "source": [
    "least_squares_GD(y, tX, np.zeros(tX.shape[1]), 50, 0.001)"
   ]
  },
  {
   "cell_type": "code",
   "execution_count": 61,
   "metadata": {},
   "outputs": [
    {
     "data": {
      "text/plain": [
       "0.33896554888150016"
      ]
     },
     "execution_count": 61,
     "metadata": {},
     "output_type": "execute_result"
    },
    {
     "data": {
      "image/png": "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\n",
      "text/plain": [
       "<Figure size 432x288 with 1 Axes>"
      ]
     },
     "metadata": {
      "needs_background": "light"
     },
     "output_type": "display_data"
    }
   ],
   "source": [
    "num_gamma = 10\n",
    "least_squares_loss = np.ones(num_gamma)\n",
    "gamma = np.logspace(-3, -1, num_gamma)\n",
    "for i in range(num_gamma):\n",
    "    least_squares_loss[i] = least_squares_GD(y, tX, np.ones(tX.shape[1]), 50, gamma[i])[1]\n",
    "plt.plot(gamma, least_squares_loss, 'ro')\n",
    "plt.xscale('log')\n",
    "np.min(least_squares_loss)"
   ]
  },
  {
   "cell_type": "code",
   "execution_count": 62,
   "metadata": {},
   "outputs": [
    {
     "data": {
      "text/plain": [
       "(array([0.9999989 , 1.00000314, 0.99999147, 1.00001969, 1.00000571,\n",
       "        1.00000657, 1.0000057 , 0.99998841, 1.00000949, 1.00001938,\n",
       "        1.00000424, 1.00001462, 1.00000571, 1.00001815, 1.00000716,\n",
       "        1.00000412, 1.00000718, 1.0000019 , 0.99999298, 1.00002036,\n",
       "        0.99998863, 1.00001745, 1.00000597, 1.00000577, 1.00000415,\n",
       "        1.00000414, 1.00000614, 1.0000057 , 1.00000571, 1.00001711]),\n",
       " 0.3389697295439249)"
      ]
     },
     "execution_count": 62,
     "metadata": {},
     "output_type": "execute_result"
    }
   ],
   "source": [
    "least_squares_SGD(y, tX, np.ones(tX.shape[1]), 50, 0.001)"
   ]
  },
  {
   "cell_type": "code",
   "execution_count": 63,
   "metadata": {},
   "outputs": [
    {
     "data": {
      "text/plain": [
       "0.33895437143267654"
      ]
     },
     "execution_count": 63,
     "metadata": {},
     "output_type": "execute_result"
    },
    {
     "data": {
      "image/png": "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\n",
      "text/plain": [
       "<Figure size 432x288 with 1 Axes>"
      ]
     },
     "metadata": {
      "needs_background": "light"
     },
     "output_type": "display_data"
    }
   ],
   "source": [
    "num_gamma = 10\n",
    "least_squares_loss_SG = np.ones(num_gamma)\n",
    "gamma = gamma = np.logspace(-3, -1, num_gamma)\n",
    "for i in range(num_gamma):\n",
    "    least_squares_loss_SG[i] = least_squares_SGD(y, tX, np.ones(tX.shape[1]), 200, gamma[i])[1]\n",
    "plt.plot(gamma, least_squares_loss_SG, 'ro')\n",
    "plt.xscale('log')\n",
    "np.min(least_squares_loss_SG)"
   ]
  },
  {
   "cell_type": "code",
   "execution_count": 64,
   "metadata": {
    "scrolled": true
   },
   "outputs": [
    {
     "data": {
      "text/plain": [
       "(array([ 7.34466765e+00, -6.31329000e+01, -6.36978437e+01, -7.59240601e+00,\n",
       "        -3.48966466e+02,  7.39278381e+01, -2.69643648e+03,  6.69702120e+01,\n",
       "        -6.12375782e-01, -8.22035425e+04, -4.56619296e+01,  2.85099349e+01,\n",
       "         5.12395102e+03,  1.59706867e+04, -7.97399406e-02, -4.52210637e-01,\n",
       "         1.57479846e+04, -1.12160364e-01,  3.85948203e-01,  3.03656752e+01,\n",
       "         9.88172054e-02, -1.58305868e+01, -5.16867735e+01, -2.91639430e+01,\n",
       "         2.46564211e+01,  4.19769180e+01, -8.37865563e+00, -7.45896702e+02,\n",
       "        -1.34097024e+03,  6.96169004e+04]), 0.28714415748515315)"
      ]
     },
     "execution_count": 64,
     "metadata": {},
     "output_type": "execute_result"
    }
   ],
   "source": [
    "least_squares(y, tX)"
   ]
  },
  {
   "cell_type": "code",
   "execution_count": 65,
   "metadata": {},
   "outputs": [
    {
     "data": {
      "text/plain": [
       "(array([ 5.67275316e-03, -8.33674935e-03, -3.33371252e-04,  4.56443062e-03,\n",
       "         3.35652662e-03,  4.54597192e-03,  3.33062445e-03,  2.92629473e-04,\n",
       "        -3.64433506e-04,  3.63171336e-03, -4.63598367e-03,  6.44507464e-03,\n",
       "         3.34940776e-03,  5.57982696e-03, -2.24163132e-05, -1.04475651e-04,\n",
       "        -7.58795996e-04,  3.58974093e-05,  9.78855676e-05,  5.31204014e-04,\n",
       "         1.77314718e-04,  3.21152406e-03,  3.16408028e-03,  3.73560007e-03,\n",
       "         3.56646719e-03,  3.56643819e-03,  3.33439703e-03,  3.34748395e-03,\n",
       "         3.34726502e-03,  3.18213149e-03]), 0.34264466353063555)"
      ]
     },
     "execution_count": 65,
     "metadata": {},
     "output_type": "execute_result"
    }
   ],
   "source": [
    "ridge_regression(y, tX, 0.02)"
   ]
  },
  {
   "cell_type": "code",
   "execution_count": 66,
   "metadata": {},
   "outputs": [
    {
     "data": {
      "text/plain": [
       "0.32431737592191495"
      ]
     },
     "execution_count": 66,
     "metadata": {},
     "output_type": "execute_result"
    },
    {
     "data": {
      "image/png": "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\n",
      "text/plain": [
       "<Figure size 432x288 with 1 Axes>"
      ]
     },
     "metadata": {
      "needs_background": "light"
     },
     "output_type": "display_data"
    }
   ],
   "source": [
    "num_lambda = 10\n",
    "ridge_regression_loss = np.ones(num_lambda)\n",
    "lambda_ =  np.logspace(-5, 0, num_lambda)\n",
    "for i in range(num_lambda):\n",
    "    ridge_regression_loss[i] = ridge_regression(y, tX, lambda_[i])[1]\n",
    "plt.plot(lambda_, ridge_regression_loss, 'ro')\n",
    "plt.xscale('log')\n",
    "np.min(ridge_regression_loss)"
   ]
  },
  {
   "cell_type": "code",
   "execution_count": 75,
   "metadata": {},
   "outputs": [],
   "source": [
    "from implementations import *"
   ]
  },
  {
   "cell_type": "code",
   "execution_count": 116,
   "metadata": {
    "scrolled": true
   },
   "outputs": [
    {
     "data": {
      "text/plain": [
       "(array([-6.34670606e+04,  7.34286537e+04, -2.15239951e+04, -3.81069546e+03,\n",
       "        -3.55651067e+02,  3.76146234e+04,  1.85849967e+03,  8.28043363e+03,\n",
       "        -1.03487059e+04, -1.05696140e+03, -7.14905097e+03, -1.46708965e+04,\n",
       "         1.31215804e+05,  3.28980311e+05,  3.07233151e+03, -8.12246242e+03,\n",
       "         1.99481822e+04, -8.60902543e+03, -7.49896653e+03,  3.38581757e+04,\n",
       "        -1.70839072e+03,  3.57582594e+04, -8.64896117e+03, -5.70637544e+04,\n",
       "        -1.90530483e+03,  3.22485269e+05,  4.00982061e+05, -5.03943644e+03,\n",
       "         7.38447628e+04,  1.02851233e+05, -6.59253962e+03]), inf)"
      ]
     },
     "execution_count": 116,
     "metadata": {},
     "output_type": "execute_result"
    }
   ],
   "source": [
    "logistic_regression(y, tX, np.zeros(tX.shape[1]), 1000, 0.01)"
   ]
  },
  {
   "cell_type": "code",
   "execution_count": 68,
   "metadata": {
    "scrolled": true
   },
   "outputs": [
    {
     "data": {
      "text/plain": [
       "(array([-9.70966547e+04,  5.67502581e+01, -8.33941282e+01, -3.33532744e+00,\n",
       "         4.56866480e+01,  3.36127046e+01,  4.55062424e+01,  3.33536689e+01,\n",
       "         2.90586227e+00, -3.62771829e+00,  3.63630064e+01, -4.63680733e+01,\n",
       "         6.44869325e+01,  3.35415134e+01,  5.58221553e+01, -2.23834212e-01,\n",
       "        -1.04472587e+00, -7.58118729e+00,  3.59803838e-01,  9.78971891e-01,\n",
       "         5.33114037e+00,  1.77390454e+00,  3.21590638e+01,  3.16913111e+01,\n",
       "         3.73995868e+01,  3.57064729e+01,  3.57061828e+01,  3.33916291e+01,\n",
       "         3.35222743e+01,  3.35200847e+01,  3.18684808e+01]), 8365079174.353649)"
      ]
     },
     "execution_count": 68,
     "metadata": {},
     "output_type": "execute_result"
    }
   ],
   "source": [
    "reg_logistic_regression(y, tX, 0.01, np.zeros(tX.shape[1]), 10000, 1)"
   ]
  },
  {
   "cell_type": "code",
   "execution_count": 69,
   "metadata": {},
   "outputs": [
    {
     "data": {
      "image/png": "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\n",
      "text/plain": [
       "<Figure size 432x288 with 1 Axes>"
      ]
     },
     "metadata": {
      "needs_background": "light"
     },
     "output_type": "display_data"
    }
   ],
   "source": [
    "tr, te, gammas = cross_validation_gamma(y, tX)"
   ]
  },
  {
   "cell_type": "code",
   "execution_count": 70,
   "metadata": {},
   "outputs": [
    {
     "data": {
      "image/png": "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\n",
      "text/plain": [
       "<Figure size 432x288 with 1 Axes>"
      ]
     },
     "metadata": {
      "needs_background": "light"
     },
     "output_type": "display_data"
    }
   ],
   "source": [
    "tr, te, lambdas = cross_validation_lambda(y[0:10000], tX[0:10000])"
   ]
  },
  {
   "cell_type": "code",
   "execution_count": 76,
   "metadata": {},
   "outputs": [
    {
     "data": {
      "image/png": "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\n",
      "text/plain": [
       "<Figure size 432x288 with 1 Axes>"
      ]
     },
     "metadata": {
      "needs_background": "light"
     },
     "output_type": "display_data"
    }
   ],
   "source": [
    "e1, e2 = bias_variance_demo(y[0:10], tX[0:10])"
   ]
  },
  {
   "cell_type": "markdown",
   "metadata": {},
   "source": [
    "## Generate predictions and save ouput in csv format for submission:"
   ]
  },
  {
   "cell_type": "code",
   "execution_count": 10,
   "metadata": {},
   "outputs": [],
   "source": [
    "DATA_TEST_PATH = '' # TODO: download train data and supply path here \n",
    "_, tX_test, ids_test = load_csv_data(DATA_TEST_PATH)"
   ]
  },
  {
   "cell_type": "code",
   "execution_count": 31,
   "metadata": {},
   "outputs": [],
   "source": [
    "OUTPUT_PATH = '' # TODO: fill in desired name of output file for submission\n",
    "y_pred = predict_labels(weights, tX_test)\n",
    "create_csv_submission(ids_test, y_pred, OUTPUT_PATH)"
   ]
  },
  {
   "cell_type": "code",
   "execution_count": null,
   "metadata": {},
   "outputs": [],
   "source": []
  }
 ],
 "metadata": {
  "anaconda-cloud": {},
  "kernelspec": {
   "display_name": "Python 3",
   "language": "python",
   "name": "python3"
  },
  "language_info": {
   "codemirror_mode": {
    "name": "ipython",
    "version": 3
   },
   "file_extension": ".py",
   "mimetype": "text/x-python",
   "name": "python",
   "nbconvert_exporter": "python",
   "pygments_lexer": "ipython3",
   "version": "3.7.3"
<<<<<<< Updated upstream
=======
  },
  "pycharm": {
   "stem_cell": {
    "cell_type": "raw",
    "metadata": {
     "collapsed": false
    },
    "source": []
   }
>>>>>>> Stashed changes
  }
 },
 "nbformat": 4,
 "nbformat_minor": 1
}
