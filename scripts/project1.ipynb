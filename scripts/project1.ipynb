{
 "cells": [
  {
   "cell_type": "code",
   "execution_count": 1,
   "metadata": {},
   "outputs": [],
   "source": [
    "# Useful starting lines\n",
    "%matplotlib inline\n",
    "import numpy as np \n",
    "import matplotlib.pyplot as plt\n",
    "%load_ext autoreload\n",
    "%autoreload 2"
   ]
  },
  {
   "cell_type": "markdown",
   "metadata": {},
   "source": [
    "## Load the training data into feature matrix, class labels, and event ids:"
   ]
  },
  {
   "cell_type": "code",
   "execution_count": 127,
   "metadata": {},
   "outputs": [],
   "source": [
    "from proj1_helpers import *\n",
    "DATA_TRAIN_PATH = 'C:\\\\Users\\\\asus\\\\Documents\\\\GitHub\\\\ML_course\\\\projects\\\\project1\\\\data\\\\train.csv' # TODO: download train data and supply path here \n",
    "y, tX, ids = load_csv_data(DATA_TRAIN_PATH)"
   ]
  },
  {
   "cell_type": "markdown",
   "metadata": {},
   "source": [
    "## Do your thing crazy machine learning thing here :) ..."
   ]
  },
  {
   "cell_type": "code",
   "execution_count": 128,
   "metadata": {},
   "outputs": [],
   "source": [
    "from implementations import *"
   ]
  },
  {
   "cell_type": "code",
   "execution_count": 129,
   "metadata": {},
   "outputs": [],
   "source": [
    "#Normalize the data\n",
    "centered_data = tX - np.mean(tX, axis=0)\n",
    "tX = centered_data / np.std(centered_data, axis=0)\n",
    "y[y == -1] = 0"
   ]
  },
  {
   "cell_type": "code",
   "execution_count": 53,
   "metadata": {},
   "outputs": [
    {
     "name": "stdout",
     "output_type": "stream",
     "text": [
      "9 29\n"
     ]
    }
   ],
   "source": [
    "#Find the correlations btw all columns and delete rows that are highly correlated\n",
    "corr_mtx = np.identity(30)\n",
    "for i in range(31):\n",
    "    for j in range(i,30):\n",
    "        corr_mtx[i,j] = np.corrcoef(tX[:,i], tX[:,j])[0,1]\n",
    "        if corr_mtx[i,j]>0.95 and i!=j:\n",
    "            print(i,j)"
   ]
  },
  {
   "cell_type": "code",
   "execution_count": 130,
   "metadata": {},
   "outputs": [],
   "source": [
    "tX = np.delete(tX, np.array([6, 12,24,25,26,27,28,29]), axis=1)"
   ]
  },
  {
   "cell_type": "code",
   "execution_count": 131,
   "metadata": {},
   "outputs": [
    {
     "data": {
      "text/plain": [
       "(array([ 5.26859500e-03, -7.84323320e-03, -3.16503693e-04,  3.97139070e-03,\n",
       "         2.81393343e-03,  3.99886046e-03,  5.46361578e-04, -5.65764883e-04,\n",
       "         3.03164606e-03, -4.40981843e-03,  5.88958959e-03,  5.16320471e-03,\n",
       "        -2.59556495e-05, -1.02695628e-04, -7.87572705e-04,  2.49855231e-05,\n",
       "         9.48878243e-05,  3.10719181e-04,  1.63547941e-04,  2.62464469e-03,\n",
       "         2.55812243e-03,  3.17921873e-03]), 0.33288550699346)"
      ]
     },
     "execution_count": 131,
     "metadata": {},
     "output_type": "execute_result"
    }
   ],
   "source": [
    "least_squares_GD(y, tX, np.zeros(tX.shape[1]), 50, 0.001)"
   ]
  },
  {
   "cell_type": "code",
   "execution_count": 134,
   "metadata": {},
   "outputs": [
    {
     "data": {
      "text/plain": [
       "(array([ 5.63201952e-04, -8.28714613e-04, -3.31581250e-05,  4.50321999e-04,\n",
       "         3.30121712e-04,  4.49015617e-04,  3.19223891e-05, -3.85635716e-05,\n",
       "         3.56983557e-04, -4.61360154e-04,  6.38845431e-04,  5.53724467e-04,\n",
       "        -2.27874070e-06, -1.04317274e-05, -7.62559527e-05,  3.47705641e-06,\n",
       "         9.75991132e-06,  5.07805270e-05,  1.75920477e-05,  3.15098196e-04,\n",
       "         3.10210826e-04,  3.67866209e-04]), 0.3415018920287317)"
      ]
     },
     "execution_count": 134,
     "metadata": {},
     "output_type": "execute_result"
    }
   ],
   "source": [
    "least_squares_GD(y, tX, np.zeros(tX.shape[1]), 50, 0.0001)"
   ]
  },
  {
   "cell_type": "code",
   "execution_count": 7,
   "metadata": {},
   "outputs": [
    {
     "data": {
      "text/plain": [
       "0.337812023619296"
      ]
     },
     "execution_count": 7,
     "metadata": {},
     "output_type": "execute_result"
    },
    {
     "data": {
      "image/png": "[encoded data removed]",
      "text/plain": [
       "<Figure size 432x288 with 1 Axes>"
      ]
     },
     "metadata": {
      "needs_background": "light"
     },
     "output_type": "display_data"
    }
   ],
   "source": [
    "num_gamma = 10\n",
    "least_squares_loss = np.ones(num_gamma)\n",
    "gamma = np.logspace(-3, -1, num_gamma)\n",
    "for i in range(num_gamma):\n",
    "    least_squares_loss[i] = least_squares_GD(y, tX, np.ones(tX.shape[1]), 50, gamma[i])[1]\n",
    "plt.plot(gamma, least_squares_loss, 'ro')\n",
    "plt.xscale('log')\n",
    "np.min(least_squares_loss)"
   ]
  },
  {
   "cell_type": "code",
   "execution_count": 136,
   "metadata": {},
   "outputs": [
    {
     "data": {
      "text/plain": [
       "(array([0.95553731, 1.04115775, 0.94727253, 0.69607835, 0.72597254,\n",
       "        0.70452605, 1.15738707, 0.92497054, 0.67218383, 1.06525226,\n",
       "        0.83783813, 0.63038831, 0.9598901 , 0.8350971 , 0.94894062,\n",
       "        1.00520199, 0.95058666, 0.84982689, 0.99732738, 0.65647604,\n",
       "        0.75503761, 0.78800625]), 48.52016211819277)"
      ]
     },
     "execution_count": 136,
     "metadata": {},
     "output_type": "execute_result"
    }
   ],
   "source": [
    "least_squares_SGD(y, tX, np.ones(tX.shape[1]), 50, 0.001)"
   ]
  },
  {
   "cell_type": "code",
   "execution_count": 77,
   "metadata": {},
   "outputs": [
    {
     "data": {
      "text/plain": [
       "0.8084637594708062"
      ]
     },
     "execution_count": 77,
     "metadata": {},
     "output_type": "execute_result"
    },
    {
     "data": {
      "image/png": "[encoded data removed]",
      "text/plain": [
       "<Figure size 432x288 with 1 Axes>"
      ]
     },
     "metadata": {
      "needs_background": "light"
     },
     "output_type": "display_data"
    }
   ],
   "source": [
    "num_gamma = 10\n",
    "least_squares_loss_SG = np.ones(num_gamma)\n",
    "gamma = gamma = np.logspace(-3, -1, num_gamma)\n",
    "for i in range(num_gamma):\n",
    "    least_squares_loss_SG[i] = least_squares_SGD(y, tX, np.ones(tX.shape[1]), 200, gamma[i])[1]\n",
    "plt.plot(gamma, least_squares_loss_SG, 'ro')\n",
    "plt.xscale('log')\n",
    "np.min(least_squares_loss_SG)"
   ]
  },
  {
   "cell_type": "code",
   "execution_count": 137,
   "metadata": {
    "scrolled": true
   },
   "outputs": [
    {
     "data": {
      "text/plain": [
       "(array([ 0.01457775, -0.12673899, -0.12745413, -0.01694001, -0.08993026,\n",
       "         0.20927023,  0.13388932, -0.00050725, -0.07308316, -0.09132203,\n",
       "         0.05763819,  0.11023857, -0.00032171, -0.00054586,  0.15797759,\n",
       "        -0.00043332,  0.0012556 ,  0.06044576,  0.00050283, -0.03165107,\n",
       "        -0.09071907,  0.07996976]), 0.28744464469757697)"
      ]
     },
     "execution_count": 137,
     "metadata": {},
     "output_type": "execute_result"
    }
   ],
   "source": [
    "least_squares(y, tX)"
   ]
  },
  {
   "cell_type": "code",
   "execution_count": 138,
   "metadata": {},
   "outputs": [
    {
     "data": {
      "text/plain": [
       "(array([ 0.02074855, -0.11421443, -0.0920186 , -0.00077868, -0.04247097,\n",
       "         0.13761996,  0.10431579, -0.00810759, -0.03863204, -0.06988994,\n",
       "         0.05813532,  0.09582814, -0.00044968, -0.00074823,  0.10749807,\n",
       "        -0.00036194,  0.00119516,  0.04380157,  0.00059088, -0.03638813,\n",
       "        -0.06717489,  0.05004489]), 0.2906412127080359)"
      ]
     },
     "execution_count": 138,
     "metadata": {},
     "output_type": "execute_result"
    }
   ],
   "source": [
    "ridge_regression(y, tX, 0.02)"
   ]
  },
  {
   "cell_type": "code",
   "execution_count": 80,
   "metadata": {},
   "outputs": [
    {
     "data": {
      "text/plain": [
       "0.28693112829048006"
      ]
     },
     "execution_count": 80,
     "metadata": {},
     "output_type": "execute_result"
    },
    {
     "data": {
      "image/png": "[encoded data removed]",
      "text/plain": [
       "<Figure size 432x288 with 1 Axes>"
      ]
     },
     "metadata": {
      "needs_background": "light"
     },
     "output_type": "display_data"
    }
   ],
   "source": [
    "num_lambda = 10\n",
    "ridge_regression_loss = np.ones(num_lambda)\n",
    "lambda_ =  np.logspace(-5, 0, num_lambda)\n",
    "for i in range(num_lambda):\n",
    "    ridge_regression_loss[i] = ridge_regression(y, tX, lambda_[i])[1]\n",
    "plt.plot(lambda_, ridge_regression_loss, 'ro')\n",
    "plt.xscale('log')\n",
    "np.min(ridge_regression_loss)"
   ]
  },
  {
   "cell_type": "code",
   "execution_count": 152,
   "metadata": {},
   "outputs": [],
   "source": [
    "from implementations import *"
   ]
  },
  {
   "cell_type": "code",
   "execution_count": 140,
   "metadata": {
    "scrolled": true
   },
   "outputs": [
    {
     "data": {
      "text/plain": [
       "(array([ 9.96116094e-01,  1.13500516e-03, -1.66788256e-03, -6.67065488e-05,\n",
       "         9.13732961e-04,  6.72254092e-04,  9.10124848e-04,  5.81172453e-05,\n",
       "        -7.25543657e-05,  7.27260128e-04, -9.27361466e-04,  1.28973865e-03,\n",
       "         1.11644311e-03, -4.47668425e-06, -2.08945173e-05, -1.51623746e-04,\n",
       "         7.19607677e-06,  1.95794378e-05,  1.06622807e-04,  3.54780907e-05,\n",
       "         6.43181277e-04,  6.33826223e-04,  7.47991736e-04]), 0.967900856068734)"
      ]
     },
     "execution_count": 140,
     "metadata": {},
     "output_type": "execute_result"
    }
   ],
   "source": [
    "logistic_regression(y, tX, np.zeros(tX.shape[1]), 1000, 0.01)"
   ]
  },
  {
   "cell_type": "code",
   "execution_count": 141,
   "metadata": {
    "scrolled": true
   },
   "outputs": [
    {
     "data": {
      "text/plain": [
       "(array([ 6.01609421e-01,  1.13500516e-01, -1.66788256e-01, -6.67065488e-03,\n",
       "         9.13732961e-02,  6.72254092e-02,  9.10124848e-02,  5.81172453e-03,\n",
       "        -7.25543657e-03,  7.27260128e-02, -9.27361466e-02,  1.28973865e-01,\n",
       "         1.11644311e-01, -4.47668425e-04, -2.08945173e-03, -1.51623746e-02,\n",
       "         7.19607677e-04,  1.95794378e-03,  1.06622807e-02,  3.54780907e-03,\n",
       "         6.43181277e-02,  6.33826223e-02,  7.47991736e-02]),\n",
       " 0.7699150312170796)"
      ]
     },
     "execution_count": 141,
     "metadata": {},
     "output_type": "execute_result"
    }
   ],
   "source": [
    "reg_logistic_regression(y, tX, 0.01, np.zeros(tX.shape[1]), 10000, 1)"
   ]
  },
  {
   "cell_type": "code",
   "execution_count": 144,
   "metadata": {},
   "outputs": [
    {
     "data": {
      "image/png": "[encoded data removed]",
      "text/plain": [
       "<Figure size 432x288 with 1 Axes>"
      ]
     },
     "metadata": {
      "needs_background": "light"
     },
     "output_type": "display_data"
    }
   ],
   "source": [
    "tr, te, gammas = cross_validation_gamma(y, tX)"
   ]
  },
  {
   "cell_type": "code",
   "execution_count": 148,
   "metadata": {},
   "outputs": [
    {
     "data": {
      "image/png": "[encoded data removed]",
      "text/plain": [
       "<Figure size 432x288 with 1 Axes>"
      ]
     },
     "metadata": {
      "needs_background": "light"
     },
     "output_type": "display_data"
    }
   ],
   "source": [
    "tr, te, lambdas = cross_validation_lambda(y[0:10000], tX[0:10000])"
   ]
  },
  {
   "cell_type": "code",
   "execution_count": null,
   "metadata": {},
   "outputs": [
    {
     "name": "stderr",
     "output_type": "stream",
     "text": [
      "C:\\Users\\asus\\Documents\\GitHub\\EPFL-Machine-Learning-Higgs-2019\\scripts\\implementations.py:131: RuntimeWarning: invalid value encountered in true_divide\n",
      "  #gradient /= tx.shape[0]\n",
      "C:\\Users\\asus\\Documents\\GitHub\\EPFL-Machine-Learning-Higgs-2019\\scripts\\implementations.py:122: RuntimeWarning: invalid value encountered in double_scalars\n",
      "  #loss /= tx.shape[0]\n"
     ]
    }
   ],
   "source": [
    "e1, e2 = bias_variance_demo(y[0:10], tX[0:10])"
   ]
  },
  {
   "cell_type": "markdown",
   "metadata": {},
   "source": [
    "## Generate predictions and save ouput in csv format for submission:"
   ]
  },
  {
   "cell_type": "code",
   "execution_count": 10,
   "metadata": {},
   "outputs": [],
   "source": [
    "DATA_TEST_PATH = '' # TODO: download train data and supply path here \n",
    "_, tX_test, ids_test = load_csv_data(DATA_TEST_PATH)"
   ]
  },
  {
   "cell_type": "code",
   "execution_count": 31,
   "metadata": {},
   "outputs": [],
   "source": [
    "OUTPUT_PATH = '' # TODO: fill in desired name of output file for submission\n",
    "y_pred = predict_labels(weights, tX_test)\n",
    "create_csv_submission(ids_test, y_pred, OUTPUT_PATH)"
   ]
  },
  {
   "cell_type": "code",
   "execution_count": null,
   "metadata": {},
   "outputs": [],
   "source": []
  }
 ],
 "metadata": {
  "anaconda-cloud": {},
  "kernelspec": {
   "display_name": "Python 3",
   "language": "python",
   "name": "python3"
  },
  "language_info": {
   "codemirror_mode": {
    "name": "ipython",
    "version": 3
   },
   "file_extension": ".py",
   "mimetype": "text/x-python",
   "name": "python",
   "nbconvert_exporter": "python",
   "pygments_lexer": "ipython3",
   "version": "3.7.3"
  }
 },
 "nbformat": 4,
 "nbformat_minor": 1
}
