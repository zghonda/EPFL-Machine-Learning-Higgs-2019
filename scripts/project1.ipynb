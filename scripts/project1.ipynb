{
 "cells": [
  {
   "cell_type": "code",
   "execution_count": 1,
   "metadata": {},
   "outputs": [],
   "source": [
    "# Useful starting lines\n",
    "%matplotlib inline\n",
    "import numpy as np\n",
    "import matplotlib.pyplot as plt\n",
    "%load_ext autoreload\n",
    "%autoreload 2"
   ]
  },
  {
   "cell_type": "markdown",
   "metadata": {},
   "source": [
    "## Load the training data into feature matrix, class labels, and event ids:"
   ]
  },
  {
   "cell_type": "code",
   "execution_count": 2,
   "metadata": {},
   "outputs": [],
   "source": [
    "from proj1_helpers import *\n",
    "DATA_TRAIN_PATH = '../data/train.csv'\n",
    "y, tX, ids = load_csv_data(DATA_TRAIN_PATH)"
   ]
  },
  {
   "cell_type": "code",
   "execution_count": 3,
   "metadata": {
    "scrolled": true
   },
   "outputs": [
    {
     "data": {
      "text/plain": [
       "array([[138.47 ,  51.655,  97.827, ...,   1.24 ,  -2.475, 113.497],\n",
       "       [160.937,  68.768, 103.235, ...,   0.   ,   0.   ,  46.226],\n",
       "       [  0.   , 162.172, 125.953, ...,   0.   ,   0.   ,  44.251],\n",
       "       ...,\n",
       "       [105.457,  60.526,  75.839, ...,   0.   ,   0.   ,  41.992],\n",
       "       [ 94.951,  19.362,  68.812, ...,   0.   ,   0.   ,   0.   ],\n",
       "       [  0.   ,  72.756,  70.831, ...,   0.   ,   0.   ,   0.   ]])"
      ]
     },
     "execution_count": 3,
     "metadata": {},
     "output_type": "execute_result"
    }
   ],
   "source": [
    "tX = np.where(tX==-999, 0, tX)\n",
    "tX"
   ]
  },
  {
   "cell_type": "code",
   "execution_count": 13,
   "metadata": {},
   "outputs": [
    {
     "name": "stdout",
     "output_type": "stream",
     "text": [
      "[ 2.47814917e+52  1.84995522e+51  1.41944460e+52  2.18831455e+52\n",
      " -1.00204678e+52  1.01261778e+53 -1.09888488e+52 -9.98211009e+51\n",
      " -2.59777555e+51  6.96094908e+52 -1.01566404e+52 -1.04734421e+52\n",
      " -1.04953062e+52  3.73030220e+51 -1.06034923e+52 -1.06010484e+52\n",
      "  5.59806472e+51 -1.06034767e+52 -1.05897319e+52  6.78910751e+51\n",
      " -1.06005845e+52  8.61529590e+52 -1.00709456e+52  2.10204700e+52\n",
      " -1.06019823e+52 -1.06028766e+52  2.73889291e+51 -1.06037450e+52\n",
      " -1.06023520e+52  3.90795534e+52] 2.6994852408742386e+107\n"
     ]
    }
   ],
   "source": [
    "from implementations import *\n",
    "\n",
    "initial_w = np.zeros(len(tX[0]))\n",
    "max_iters = 50\n",
    "gamma = 0.7\n",
    "\n",
    "weigths, loss = least_squares_GD(y, tX, initial_w, max_iters, gamma)\n",
    "\n",
    "print(weigths, loss)"
   ]
  },
  {
   "cell_type": "code",
   "execution_count": 5,
   "metadata": {},
   "outputs": [
    {
     "data": {
      "text/plain": [
       "250000"
      ]
     },
     "execution_count": 5,
     "metadata": {},
     "output_type": "execute_result"
    }
   ],
   "source": [
    "tX = standardize_matrix(tX)\n",
    "len(tX)"
   ]
  },
  {
   "cell_type": "code",
   "execution_count": 6,
   "metadata": {},
   "outputs": [
    {
     "data": {
      "text/plain": [
       "array([[ 1.22443381,  0.19387987,  0.74197336, ..., -0.40458096,\n",
       "        -0.44868057,  0.92798707],\n",
       "       [ 1.4911326 ,  0.39702299,  0.80617005, ..., -0.41930061,\n",
       "        -0.41930061,  0.1294339 ],\n",
       "       [-0.41930061,  1.5057929 ,  1.07584839, ..., -0.41930061,\n",
       "        -0.41930061,  0.10598928],\n",
       "       ...,\n",
       "       [ 0.83254673,  0.29918476,  0.48096063, ..., -0.41930061,\n",
       "        -0.41930061,  0.0791734 ],\n",
       "       [ 0.70783326, -0.18946032,  0.3975453 , ..., -0.41930061,\n",
       "        -0.41930061, -0.41930061],\n",
       "       [-0.41930061,  0.4443633 ,  0.42151222, ..., -0.41930061,\n",
       "        -0.41930061, -0.41930061]])"
      ]
     },
     "execution_count": 6,
     "metadata": {},
     "output_type": "execute_result"
    }
   ],
   "source": [
    "tX"
   ]
  },
  {
   "cell_type": "code",
   "execution_count": 16,
   "metadata": {},
   "outputs": [],
   "source": [
    "# compute cross validation for training, return the optimal weigths and theirs respective loss for the train and the test datas\n",
    "def cross_validation(y, tx, k_indices, k, lambda_):\n",
    "    \n",
    "    # get k'th subgroup in test, others in train\n",
    "    training_indices = k_indices[~(np.arange(len(k_indices)) == k)].reshape(-1)\n",
    "    test_indices = k_indices[k]\n",
    "    \n",
    "    tx_train = tx[training_indices]\n",
    "    tx_test = tx[test_indices]\n",
    "    y_train = y[training_indices]\n",
    "    y_test = y[test_indices]\n",
    "    \n",
    "    # optimization with ridge_regression\n",
    "    weigths = ridge_regression(y_train, tx_train, lambda_)\n",
    "    \n",
    "    # compute the loss for the train and test datas with the weigths found\n",
    "    loss_train = compute_mse(y_train, tx_train, weigths)\n",
    "    loss_test = compute_mse(y_test, tx_test, weigths)\n",
    "    \n",
    "    return weigths, loss_train, loss_test"
   ]
  },
  {
   "cell_type": "code",
   "execution_count": 17,
   "metadata": {},
   "outputs": [],
   "source": [
    "# compute the best hyperparameters for regularized optimization\n",
    "def best_hyperparameters(y, tx, lambdas, k_fold, seed=1):\n",
    "    # for each lambda, compute the respective loss\n",
    "    losses = []\n",
    "    \n",
    "    # build k indices for k-fold\n",
    "    k_indices = build_k_indices(y, k_fold, seed)\n",
    "    \n",
    "    # compute cross validation for each lambda\n",
    "    for lambda_ in lambdas:\n",
    "        \n",
    "        # to compute the total loss of each lambda, compute the loss for each iteration of the k-fold and compute the mean\n",
    "        losses_test_tmp = []\n",
    "        \n",
    "        # compute loss for each iteration of the k_fold\n",
    "        for k in range(k_fold):\n",
    "            weigths, loss_train, loss_test = cross_validation(y, tx, k_indices, k, lambda_)\n",
    "            losses_test_tmp.append(loss_test)\n",
    "            \n",
    "            \n",
    "        #compute the loss for the specific lambda by taking the mean of the losses of each iteration of the k-fold\n",
    "        losses.append(np.mean(losses_test_tmp))\n",
    "        \n",
    "    # find the optimal hyperparameter lambda by getting the minimum loss\n",
    "    best_lambda_index = np.argmin(losses)\n",
    "    optimal_lambda = lambdas[best_lambda_index]\n",
    "    minimum_loss = losses[best_lambda_index]\n",
    "    \n",
    "    return optimal_lambda, minimum_loss"
   ]
  },
  {
   "cell_type": "code",
   "execution_count": 18,
   "metadata": {},
   "outputs": [
    {
     "data": {
      "text/plain": [
       "(0.0001, 0.35276919594391)"
      ]
     },
     "execution_count": 18,
     "metadata": {},
     "output_type": "execute_result"
    }
   ],
   "source": [
    "best_hyperparameters(y, tX, np.logspace(-4,0), 4)"
   ]
  },
  {
   "cell_type": "markdown",
   "metadata": {},
   "source": [
    "## Do your thing crazy machine learning thing here :) ..."
   ]
  },
  {
   "cell_type": "markdown",
   "metadata": {},
   "source": [
    "## Generate predictions and save ouput in csv format for submission:"
   ]
  },
  {
   "cell_type": "code",
   "execution_count": null,
   "metadata": {},
   "outputs": [],
   "source": [
    "DATA_TEST_PATH = '' # TODO: download train data and supply path here \n",
    "_, tX_test, ids_test = load_csv_data(DATA_TEST_PATH)"
   ]
  },
  {
   "cell_type": "code",
   "execution_count": null,
   "metadata": {},
   "outputs": [],
   "source": [
    "OUTPUT_PATH = '' # TODO: fill in desired name of output file for submission\n",
    "y_pred = predict_labels(weights, tX_test)\n",
    "create_csv_submission(ids_test, y_pred, OUTPUT_PATH)"
   ]
  },
  {
   "cell_type": "code",
   "execution_count": null,
   "metadata": {},
   "outputs": [],
   "source": []
  }
 ],
 "metadata": {
  "anaconda-cloud": {},
  "kernelspec": {
   "display_name": "Python 3",
   "language": "python",
   "name": "python3"
  },
  "language_info": {
   "codemirror_mode": {
    "name": "ipython",
    "version": 3
   },
   "file_extension": ".py",
   "mimetype": "text/x-python",
   "name": "python",
   "nbconvert_exporter": "python",
   "pygments_lexer": "ipython3",
   "version": "3.7.4"
  }
 },
 "nbformat": 4,
 "nbformat_minor": 1
}
