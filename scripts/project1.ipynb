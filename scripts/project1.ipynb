{
 "cells": [
  {
   "cell_type": "code",
   "execution_count": 1,
   "metadata": {},
   "outputs": [],
   "source": [
    "# Useful starting lines\n",
    "%matplotlib inline\n",
    "import numpy as np\n",
    "import matplotlib.pyplot as plt\n",
    "from proj1_helpers import *\n",
    "from implementations import *\n",
    "from train import *\n",
    "\n",
    "%load_ext autoreload\n",
    "%autoreload 2"
   ]
  },
  {
   "cell_type": "markdown",
   "metadata": {},
   "source": [
    "## Load the training data into feature matrix, class labels, and event ids:"
   ]
  },
  {
   "cell_type": "code",
   "execution_count": 2,
   "metadata": {},
   "outputs": [],
   "source": [
    "DATA_TRAIN_PATH = '../data/train.csv'\n",
    "y, tX, ids = load_csv_data(DATA_TRAIN_PATH)"
   ]
  },
  {
   "cell_type": "code",
   "execution_count": 3,
   "metadata": {},
   "outputs": [],
   "source": [
    "DATA_TEST_PATH = '../data/test.csv' \n",
    "_, tX_test, ids_test = load_csv_data(DATA_TEST_PATH)"
   ]
  },
  {
   "cell_type": "markdown",
   "metadata": {},
   "source": [
    "## Do your thing crazy machine learning thing here :) ..."
   ]
  },
  {
   "cell_type": "code",
   "execution_count": 4,
   "metadata": {},
   "outputs": [],
   "source": [
    "tX, tX_test = replace_data(tX, replace=-999, by=np.NaN), replace_data(tX_test, replace= -999, by=np.NaN)"
   ]
  },
  {
   "cell_type": "markdown",
   "metadata": {},
   "source": [
    "y = replace_data(y, -1, 0)"
   ]
  },
  {
   "cell_type": "code",
   "execution_count": 5,
   "metadata": {},
   "outputs": [],
   "source": [
    "# initialize the range of hyperparameters\n",
    "degrees = np.arange(2, 6)\n",
    "lambdas = np.logspace(-4, 0, 30)\n",
    "gamma = 0.005\n",
    "\n",
    "# initialize the number of k-fold\n",
    "k_fold = 4\n",
    "\n",
    "# initialize the maximum number of iterations for updating the weights when using gradient descent\n",
    "max_iters = 1000"
   ]
  },
  {
   "cell_type": "code",
   "execution_count": null,
   "metadata": {
    "scrolled": false
   },
   "outputs": [
    {
     "name": "stderr",
     "output_type": "stream",
     "text": [
      "/Users/olivier/Documents/GitHub/EPFL-Machine-Learning-Higgs-2019/scripts/gradient_descent.py:7: RuntimeWarning: invalid value encountered in matmul\n",
      "  e = y - tx @ w\n",
      "/Users/olivier/Documents/GitHub/EPFL-Machine-Learning-Higgs-2019/scripts/gradient_descent.py:9: RuntimeWarning: invalid value encountered in matmul\n",
      "  return (-1 / n) * tx.T @ e\n",
      "/Users/olivier/Documents/GitHub/EPFL-Machine-Learning-Higgs-2019/scripts/proj1_helpers.py:30: RuntimeWarning: invalid value encountered in less_equal\n",
      "  y_pred[np.where(y_pred <= 0)] = -1\n",
      "/Users/olivier/Documents/GitHub/EPFL-Machine-Learning-Higgs-2019/scripts/proj1_helpers.py:31: RuntimeWarning: invalid value encountered in greater\n",
      "  y_pred[np.where(y_pred > 0)] = 1\n",
      "/Users/olivier/Documents/GitHub/EPFL-Machine-Learning-Higgs-2019/scripts/gradient_descent.py:7: RuntimeWarning: overflow encountered in matmul\n",
      "  e = y - tx @ w\n",
      "/Users/olivier/Documents/GitHub/EPFL-Machine-Learning-Higgs-2019/scripts/gradient_descent.py:9: RuntimeWarning: overflow encountered in matmul\n",
      "  return (-1 / n) * tx.T @ e\n",
      "/Users/olivier/Documents/GitHub/EPFL-Machine-Learning-Higgs-2019/scripts/implementations.py:16: RuntimeWarning: invalid value encountered in subtract\n",
      "  w = w - gamma * gradient\n",
      "/Users/olivier/Documents/GitHub/EPFL-Machine-Learning-Higgs-2019/scripts/costs.py:12: RuntimeWarning: overflow encountered in matmul\n",
      "  return e.T @ e / (2 * len(y))\n"
     ]
    }
   ],
   "source": [
    "from train_least_squares_GD import *\n",
    "\n",
    "best_weights, best_degree = train_models_least_squares_GD(y, tX, degrees, gamma, max_iters, k_fold)\n"
   ]
  },
  {
   "cell_type": "code",
   "execution_count": null,
   "metadata": {},
   "outputs": [],
   "source": [
    "best_degree"
   ]
  },
  {
   "cell_type": "code",
   "execution_count": null,
   "metadata": {},
   "outputs": [],
   "source": [
    "#best_lambda"
   ]
  },
  {
   "cell_type": "code",
   "execution_count": null,
   "metadata": {},
   "outputs": [],
   "source": [
    "#best_gamma"
   ]
  },
  {
   "cell_type": "code",
   "execution_count": null,
   "metadata": {},
   "outputs": [],
   "source": [
    "best_weights"
   ]
  },
  {
   "cell_type": "markdown",
   "metadata": {},
   "source": [
    "## Generate predictions and save ouput in csv format for submission:"
   ]
  },
  {
   "cell_type": "code",
   "execution_count": null,
   "metadata": {},
   "outputs": [],
   "source": [
    "# get the indices of the subsets in the training and the test datasets\n",
    "indices_train_group = group_indices(tX)\n",
    "indices_test_group = group_indices(tX_test)"
   ]
  },
  {
   "cell_type": "code",
   "execution_count": null,
   "metadata": {},
   "outputs": [],
   "source": [
    "# initialize the prediction array\n",
    "y_pred = np.zeros(tX_test.shape[0])"
   ]
  },
  {
   "cell_type": "markdown",
   "metadata": {},
   "source": [
    "y_pred = np.zeros(tX_test.shape[0])\n",
    "for i, indice_test_group in enumerate(indices_test_group):\n",
    "    y_pred_subset = predict_labels(best_weights[i], build_poly(drop_na_columns(tX_test[indice_test_group]), best_degree[i]))\n",
    "    y_pred[indice_test_group] = y_pred_subset\n",
    "    \n",
    "    \n",
    "y_pred"
   ]
  },
  {
   "cell_type": "code",
   "execution_count": null,
   "metadata": {},
   "outputs": [],
   "source": [
    "### TEST ###\n",
    "\n",
    "for i, indice_test_group in enumerate(indices_test_group):\n",
    "    \n",
    "    # for standardizing the test subset, we need the data of both train and test subsets\n",
    "    tx_subset = tX[indices_train_group[i]]\n",
    "    tx_test_subset = tX_test[indice_test_group]\n",
    "    \n",
    "    # get the standardized test subset\n",
    "    _, standardized_tx_test_subset = preprocess_data(tx_subset, tx_test_subset)\n",
    "    \n",
    "    # predict the labels\n",
    "    y_pred_subset = predict_labels(best_weights[i], build_poly(standardized_tx_test_subset, best_degree[i]))\n",
    "    y_pred[indice_test_group] = y_pred_subset\n",
    "    \n",
    "    \n",
    "y_pred"
   ]
  },
  {
   "cell_type": "code",
   "execution_count": null,
   "metadata": {},
   "outputs": [],
   "source": [
    "OUTPUT_PATH = '../data/sample-submission_least_squares_GD.csv'\n",
    "create_csv_submission(ids_test, y_pred, OUTPUT_PATH)"
   ]
  },
  {
   "cell_type": "markdown",
   "metadata": {},
   "source": [
    "# Test on outlier detection"
   ]
  },
  {
   "cell_type": "code",
   "execution_count": null,
   "metadata": {},
   "outputs": [],
   "source": [
    "#### Test on outlier detection\n",
    "\n",
    "a = drop_na_columns(tX[indices_train_group[0]])[:, 0]\n",
    "a"
   ]
  },
  {
   "cell_type": "code",
   "execution_count": null,
   "metadata": {},
   "outputs": [],
   "source": [
    "b = standardize(a)[0]\n",
    "b"
   ]
  },
  {
   "cell_type": "code",
   "execution_count": null,
   "metadata": {},
   "outputs": [],
   "source": [
    "print(b.sort)"
   ]
  },
  {
   "cell_type": "code",
   "execution_count": null,
   "metadata": {},
   "outputs": [],
   "source": [
    "import pandas as pd"
   ]
  },
  {
   "cell_type": "code",
   "execution_count": null,
   "metadata": {},
   "outputs": [],
   "source": [
    "### convert each subset to pandas\n",
    "\n",
    "\n",
    "\n",
    "data_sub1 = standardize(drop_na_columns(tX[indices_train_group[0]]))[0]\n",
    "data_sub2 = standardize(drop_na_columns(tX[indices_train_group[1]]))[0]\n",
    "data_sub3 = standardize(drop_na_columns(tX[indices_train_group[2]]))[0]\n",
    "data_sub4 = standardize(drop_na_columns(tX[indices_train_group[3]]))[0]\n",
    "data_sub5 = standardize(drop_na_columns(tX[indices_train_group[4]]))[0]\n",
    "data_sub6 = standardize(drop_na_columns(tX[indices_train_group[5]]))[0]\n",
    "\n",
    "df1 = pd.DataFrame(data=data_sub1[1:,1:])\n",
    "df2 = pd.DataFrame(data=data_sub2[1:,1:])\n",
    "df3 = pd.DataFrame(data=data_sub3[1:,1:])\n",
    "df4 = pd.DataFrame(data=data_sub4[1:,1:])\n",
    "df5 = pd.DataFrame(data=data_sub5[1:,1:])\n",
    "df6 = pd.DataFrame(data=data_sub6[1:,1:])"
   ]
  },
  {
   "cell_type": "code",
   "execution_count": null,
   "metadata": {},
   "outputs": [],
   "source": [
    "df_stats1 = df1.describe()\n",
    "df_stats2 = df2.describe()\n",
    "df_stats3 = df3.describe()\n",
    "df_stats4 = df4.describe()\n",
    "df_stats5 = df5.describe()\n",
    "df_stats6 = df6.describe()"
   ]
  },
  {
   "cell_type": "code",
   "execution_count": null,
   "metadata": {},
   "outputs": [],
   "source": [
    "df_stats1"
   ]
  },
  {
   "cell_type": "code",
   "execution_count": null,
   "metadata": {},
   "outputs": [],
   "source": [
    "a = pd.Series([])\n",
    "b = pd.Series([2, 3])\n",
    "a.append(b)"
   ]
  },
  {
   "cell_type": "code",
   "execution_count": null,
   "metadata": {
    "scrolled": true
   },
   "outputs": [],
   "source": [
    "outliers = pd.Series([])\n",
    "\n",
    "\n",
    "for i in range(df1.shape[1]):\n",
    "    stat = df1.describe()[i]\n",
    "    mean = stat['mean']\n",
    "    std = stat['std']\n",
    "    column = df1[i]\n",
    "    new_outliers = column[(column > (mean + 3*std))]\n",
    "    \n",
    "    outliers = outliers.append(new_outliers)\n",
    "\n",
    "bad_outliers = outliers.groupby(level=0).count()\n",
    "\n",
    "bad_outliers[bad_outliers >= 3]\n"
   ]
  },
  {
   "cell_type": "code",
   "execution_count": null,
   "metadata": {},
   "outputs": [],
   "source": [
    "df1.describe()[0]['mean']"
   ]
  },
  {
   "cell_type": "code",
   "execution_count": null,
   "metadata": {},
   "outputs": [],
   "source": [
    "first_column = df1[0]\n",
    "#pd.concat(df[(first_column > (mean_first_column + 3*std_first_column))], df[(first_column < (mean_first_column - 3*std_first_column))])"
   ]
  },
  {
   "cell_type": "code",
   "execution_count": null,
   "metadata": {},
   "outputs": [],
   "source": [
    "first_column[(first_column > (mean_first_column + 3*std_first_column))]"
   ]
  },
  {
   "cell_type": "code",
   "execution_count": null,
   "metadata": {},
   "outputs": [],
   "source": [
    "df1[(first_column < (mean_first_column - 3*std_first_column))]"
   ]
  },
  {
   "cell_type": "code",
   "execution_count": null,
   "metadata": {},
   "outputs": [],
   "source": [
    "fig, axes = plt.subplots(nrows=3, ncols=2, figsize=(17,17))\n",
    "\n",
    "df1.boxplot(ax=axes[0,0])\n",
    "df2.boxplot(ax=axes[0,1])\n",
    "df3.boxplot(ax=axes[1,0])\n",
    "df4.boxplot(ax=axes[1,1])\n",
    "df5.boxplot(ax=axes[2,0])\n",
    "df6.boxplot(ax=axes[2,1])\n"
   ]
  },
  {
   "cell_type": "code",
   "execution_count": null,
   "metadata": {},
   "outputs": [],
   "source": []
  }
 ],
 "metadata": {
  "anaconda-cloud": {},
  "kernelspec": {
   "display_name": "Python 3",
   "language": "python",
   "name": "python3"
  },
  "language_info": {
   "codemirror_mode": {
    "name": "ipython",
    "version": 3
   },
   "file_extension": ".py",
   "mimetype": "text/x-python",
   "name": "python",
   "nbconvert_exporter": "python",
   "pygments_lexer": "ipython3",
   "version": "3.7.4"
  },
  "pycharm": {
   "stem_cell": {
    "cell_type": "raw",
    "metadata": {
     "collapsed": false
    },
    "source": []
   }
  }
 },
 "nbformat": 4,
 "nbformat_minor": 1
}
