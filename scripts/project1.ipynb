{
 "cells": [
  {
   "cell_type": "code",
   "execution_count": 344,
   "metadata": {},
   "outputs": [
    {
     "name": "stdout",
     "output_type": "stream",
     "text": [
      "The autoreload extension is already loaded. To reload it, use:\n",
      "  %reload_ext autoreload\n"
     ]
    }
   ],
   "source": [
    "# Useful starting lines\n",
    "%matplotlib inline\n",
    "import numpy as np \n",
    "import matplotlib.pyplot as plt\n",
    "%load_ext autoreload\n",
    "%autoreload 2"
   ]
  },
  {
   "cell_type": "markdown",
   "metadata": {},
   "source": [
    "## Load the training data into feature matrix, class labels, and event ids:"
   ]
  },
  {
   "cell_type": "code",
   "execution_count": 374,
   "metadata": {},
   "outputs": [],
   "source": [
    "from proj1_helpers import *\n",
    "DATA_TRAIN_PATH = 'C:\\\\Users\\\\asus\\\\Documents\\\\GitHub\\\\ML_course\\\\projects\\\\project1\\\\data\\\\train.csv' # TODO: download train data and supply path here \n",
    "y, tX, ids = load_csv_data(DATA_TRAIN_PATH)"
   ]
  },
  {
   "cell_type": "markdown",
   "metadata": {},
   "source": [
    "## Do your thing crazy machine learning thing here :) ..."
   ]
  },
  {
   "cell_type": "code",
   "execution_count": 375,
   "metadata": {},
   "outputs": [],
   "source": [
    "from implementations import *"
   ]
  },
  {
   "cell_type": "code",
   "execution_count": 376,
   "metadata": {},
   "outputs": [],
   "source": [
    "#Normalize the data\n",
    "centered_data = tX - np.mean(tX, axis=0)\n",
    "tX = centered_data / np.std(centered_data, axis=0)\n",
    "y[y == -1] = 0"
   ]
  },
  {
   "cell_type": "code",
   "execution_count": 377,
   "metadata": {},
   "outputs": [
    {
     "name": "stdout",
     "output_type": "stream",
     "text": [
      "4 6\n",
      "4 12\n",
      "4 26\n",
      "4 27\n",
      "4 28\n",
      "6 12\n",
      "6 26\n",
      "6 27\n",
      "6 28\n",
      "9 29\n",
      "12 26\n",
      "12 27\n",
      "12 28\n",
      "23 24\n",
      "23 25\n",
      "24 25\n",
      "26 27\n",
      "26 28\n",
      "27 28\n"
     ]
    }
   ],
   "source": [
    "#Find the correlations btw all columns and delete rows that are highly correlated\n",
    "corr_mtx = np.identity(30)\n",
    "for i in range(31):\n",
    "    for j in range(i,30):\n",
    "        corr_mtx[i,j] = np.corrcoef(tX[:,i], tX[:,j])[0,1]\n",
    "        if corr_mtx[i,j]>0.95 and i!=j:\n",
    "            print(i,j)"
   ]
  },
  {
   "cell_type": "code",
   "execution_count": 378,
   "metadata": {},
   "outputs": [],
   "source": [
    "tX = np.delete(tX, np.array([6, 12,24,25,26,27,28,29]), axis=1)"
   ]
  },
  {
   "cell_type": "code",
   "execution_count": 379,
   "metadata": {},
   "outputs": [
    {
     "data": {
      "text/plain": [
       "(array([ 4.74321259e-02, -1.53963212e-01, -1.37635737e-01,  1.33744517e-01,\n",
       "         8.92468835e-02,  2.69903296e-01,  7.71949367e-02,  6.08511647e-02,\n",
       "         4.22754698e-02,  1.54108065e-03,  1.38481014e-01,  2.28383070e-01,\n",
       "         4.78779208e-04,  1.48033753e-04,  1.33319320e-01,  1.64120780e-03,\n",
       "         9.00020726e-04,  1.25322046e-01,  1.80818705e-03,  8.89206402e-02,\n",
       "         1.77560082e-02,  1.94047648e-01]), 1.2071598609650507)"
      ]
     },
     "execution_count": 379,
     "metadata": {},
     "output_type": "execute_result"
    }
   ],
   "source": [
    "least_squares_GD(y, tX, np.ones(tX.shape[1]), 50, 0.3)"
   ]
  },
  {
   "cell_type": "code",
   "execution_count": 112,
   "metadata": {},
   "outputs": [
    {
     "data": {
      "text/plain": [
       "0.7908063419107262"
      ]
     },
     "execution_count": 112,
     "metadata": {},
     "output_type": "execute_result"
    },
    {
     "data": {
      "image/png": "[encoded data removed]",
      "text/plain": [
       "<Figure size 432x288 with 1 Axes>"
      ]
     },
     "metadata": {
      "needs_background": "light"
     },
     "output_type": "display_data"
    }
   ],
   "source": [
    "num_gamma = 10\n",
    "least_squares_loss = np.ones(num_gamma)\n",
    "gamma = np.logspace(-3, -1, num_gamma)\n",
    "for i in range(num_gamma):\n",
    "    least_squares_loss[i] = least_squares_GD(y, tX, np.ones(tX.shape[1]), 100, gamma[i])[1]\n",
    "plt.plot(gamma, least_squares_loss, 'ro')\n",
    "plt.xscale('log')\n",
    "np.min(least_squares_loss)"
   ]
  },
  {
   "cell_type": "code",
   "execution_count": 380,
   "metadata": {},
   "outputs": [
    {
     "data": {
      "text/plain": [
       "(array([-1.40936086e+36,  1.06878612e+37,  1.70896149e+37, -1.01773818e+37,\n",
       "         8.22331293e+36,  7.28824773e+36,  5.65061120e+36, -4.43350904e+36,\n",
       "        -2.94339654e+36, -4.52477797e+36, -1.65454046e+37,  6.94338847e+36,\n",
       "         5.67323609e+36, -1.94235704e+36,  3.29168178e+36,  1.24434164e+37,\n",
       "         1.59896493e+37, -1.32440593e+36,  1.28192696e+37,  4.39896734e+35,\n",
       "         1.99278865e+36, -1.37899137e+37]), 2.6199367420757343e+75)"
      ]
     },
     "execution_count": 380,
     "metadata": {},
     "output_type": "execute_result"
    }
   ],
   "source": [
    "least_squares_SGD(y, tX, np.ones(tX.shape[1]), 1, 200, 0.3)"
   ]
  },
  {
   "cell_type": "code",
   "execution_count": 116,
   "metadata": {},
   "outputs": [
    {
     "data": {
      "text/plain": [
       "1.03736747240533"
      ]
     },
     "execution_count": 116,
     "metadata": {},
     "output_type": "execute_result"
    },
    {
     "data": {
      "image/png": "[encoded data removed]",
      "text/plain": [
       "<Figure size 432x288 with 1 Axes>"
      ]
     },
     "metadata": {
      "needs_background": "light"
     },
     "output_type": "display_data"
    }
   ],
   "source": [
    "num_gamma = 10\n",
    "least_squares_loss_SG = np.ones(num_gamma)\n",
    "gamma = gamma = np.logspace(-3, -1.5, num_gamma)\n",
    "for i in range(num_gamma):\n",
    "    least_squares_loss_SG[i] = least_squares_SGD(y, tX, np.ones(tX.shape[1]), 1, 200, gamma[i])[1]\n",
    "plt.plot(gamma, least_squares_loss_SG, 'ro')\n",
    "plt.xscale('log')\n",
    "np.min(least_squares_loss_SG)"
   ]
  },
  {
   "cell_type": "code",
   "execution_count": 381,
   "metadata": {
    "scrolled": true
   },
   "outputs": [
    {
     "data": {
      "text/plain": [
       "(array([ 0.01457775, -0.12673899, -0.12745413, -0.01694001, -0.08993026,\n",
       "         0.20927023,  0.13388932, -0.00050725, -0.07308316, -0.09132203,\n",
       "         0.05763819,  0.11023857, -0.00032171, -0.00054586,  0.15797759,\n",
       "        -0.00043332,  0.0012556 ,  0.06044576,  0.00050283, -0.03165107,\n",
       "        -0.09071907,  0.07996976]), 0.28744464469757697)"
      ]
     },
     "execution_count": 381,
     "metadata": {},
     "output_type": "execute_result"
    }
   ],
   "source": [
    "least_squares(y, tX)"
   ]
  },
  {
   "cell_type": "code",
   "execution_count": 382,
   "metadata": {},
   "outputs": [
    {
     "data": {
      "text/plain": [
       "(array([ 0.02928944, -0.09134654, -0.04128843,  0.0157347 , -0.00789187,\n",
       "         0.06632467,  0.05839849, -0.01675251, -0.0095126 , -0.04606021,\n",
       "         0.05316168,  0.068482  , -0.00052348, -0.00098303,  0.04365018,\n",
       "        -0.00033499,  0.0011042 ,  0.0203309 ,  0.00078524, -0.02369181,\n",
       "        -0.03046628,  0.01630215]), 0.2977087987665188)"
      ]
     },
     "execution_count": 382,
     "metadata": {},
     "output_type": "execute_result"
    }
   ],
   "source": [
    "ridge_regression(y, tX, 0.1)"
   ]
  },
  {
   "cell_type": "code",
   "execution_count": 121,
   "metadata": {},
   "outputs": [
    {
     "data": {
      "text/plain": [
       "0.7791136192054087"
      ]
     },
     "execution_count": 121,
     "metadata": {},
     "output_type": "execute_result"
    },
    {
     "data": {
      "image/png": "[encoded data removed]",
      "text/plain": [
       "<Figure size 432x288 with 1 Axes>"
      ]
     },
     "metadata": {
      "needs_background": "light"
     },
     "output_type": "display_data"
    }
   ],
   "source": [
    "num_lambda = 10\n",
    "ridge_regression_loss = np.ones(num_lambda)\n",
    "lambda_ =  np.logspace(-5, 0, num_lambda)\n",
    "for i in range(num_lambda):\n",
    "    ridge_regression_loss[i] = ridge_regression(y, tX, lambda_[i])[1]\n",
    "plt.plot(lambda_, ridge_regression_loss, 'ro')\n",
    "plt.xscale('log')\n",
    "np.min(ridge_regression_loss)"
   ]
  },
  {
   "cell_type": "code",
   "execution_count": 424,
   "metadata": {},
   "outputs": [],
   "source": [
    "from implementations import *"
   ]
  },
  {
   "cell_type": "code",
   "execution_count": 426,
   "metadata": {},
   "outputs": [
    {
     "name": "stdout",
     "output_type": "stream",
     "text": [
      "Current iteration=0, loss=[6931.4718056]\n",
      "Current iteration=100, loss=[nan]\n",
      "Current iteration=200, loss=[nan]\n",
      "Current iteration=300, loss=[nan]\n",
      "Current iteration=400, loss=[nan]\n",
      "Current iteration=500, loss=[nan]\n",
      "Current iteration=600, loss=[nan]\n",
      "Current iteration=700, loss=[nan]\n",
      "Current iteration=800, loss=[nan]\n",
      "Current iteration=900, loss=[nan]\n",
      "Current iteration=1000, loss=[nan]\n",
      "Current iteration=1100, loss=[nan]\n",
      "Current iteration=1200, loss=[nan]\n",
      "Current iteration=1300, loss=[nan]\n",
      "Current iteration=1400, loss=[nan]\n",
      "Current iteration=1500, loss=[nan]\n",
      "Current iteration=1600, loss=[nan]\n",
      "Current iteration=1700, loss=[nan]\n",
      "Current iteration=1800, loss=[nan]\n",
      "Current iteration=1900, loss=[nan]\n",
      "Current iteration=2000, loss=[nan]\n",
      "Current iteration=2100, loss=[nan]\n",
      "Current iteration=2200, loss=[nan]\n",
      "Current iteration=2300, loss=[nan]\n",
      "Current iteration=2400, loss=[nan]\n",
      "Current iteration=2500, loss=[nan]\n",
      "Current iteration=2600, loss=[nan]\n",
      "Current iteration=2700, loss=[nan]\n",
      "Current iteration=2800, loss=[nan]\n",
      "Current iteration=2900, loss=[nan]\n",
      "Current iteration=3000, loss=[nan]\n",
      "Current iteration=3100, loss=[nan]\n",
      "Current iteration=3200, loss=[nan]\n",
      "Current iteration=3300, loss=[nan]\n",
      "Current iteration=3400, loss=[nan]\n",
      "Current iteration=3500, loss=[nan]\n",
      "Current iteration=3600, loss=[nan]\n",
      "Current iteration=3700, loss=[nan]\n",
      "Current iteration=3800, loss=[nan]\n",
      "Current iteration=3900, loss=[nan]\n",
      "Current iteration=4000, loss=[nan]\n",
      "Current iteration=4100, loss=[nan]\n",
      "Current iteration=4200, loss=[nan]\n",
      "Current iteration=4300, loss=[nan]\n",
      "Current iteration=4400, loss=[nan]\n",
      "Current iteration=4500, loss=[nan]\n",
      "Current iteration=4600, loss=[nan]\n",
      "Current iteration=4700, loss=[nan]\n",
      "Current iteration=4800, loss=[nan]\n",
      "Current iteration=4900, loss=[nan]\n",
      "Current iteration=5000, loss=[nan]\n",
      "Current iteration=5100, loss=[nan]\n",
      "Current iteration=5200, loss=[nan]\n",
      "Current iteration=5300, loss=[nan]\n",
      "Current iteration=5400, loss=[nan]\n",
      "Current iteration=5500, loss=[nan]\n",
      "Current iteration=5600, loss=[nan]\n",
      "Current iteration=5700, loss=[nan]\n",
      "Current iteration=5800, loss=[nan]\n",
      "Current iteration=5900, loss=[nan]\n",
      "Current iteration=6000, loss=[nan]\n",
      "Current iteration=6100, loss=[nan]\n",
      "Current iteration=6200, loss=[nan]\n",
      "Current iteration=6300, loss=[nan]\n",
      "Current iteration=6400, loss=[nan]\n",
      "Current iteration=6500, loss=[nan]\n",
      "Current iteration=6600, loss=[nan]\n",
      "Current iteration=6700, loss=[nan]\n",
      "Current iteration=6800, loss=[nan]\n",
      "Current iteration=6900, loss=[nan]\n",
      "Current iteration=7000, loss=[nan]\n",
      "Current iteration=7100, loss=[nan]\n",
      "Current iteration=7200, loss=[nan]\n",
      "Current iteration=7300, loss=[nan]\n",
      "Current iteration=7400, loss=[nan]\n",
      "Current iteration=7500, loss=[nan]\n",
      "Current iteration=7600, loss=[nan]\n",
      "Current iteration=7700, loss=[nan]\n",
      "Current iteration=7800, loss=[nan]\n",
      "Current iteration=7900, loss=[nan]\n",
      "Current iteration=8000, loss=[nan]\n",
      "Current iteration=8100, loss=[nan]\n",
      "Current iteration=8200, loss=[nan]\n",
      "Current iteration=8300, loss=[nan]\n",
      "Current iteration=8400, loss=[nan]\n",
      "Current iteration=8500, loss=[nan]\n",
      "Current iteration=8600, loss=[nan]\n",
      "Current iteration=8700, loss=[nan]\n",
      "Current iteration=8800, loss=[nan]\n",
      "Current iteration=8900, loss=[nan]\n",
      "Current iteration=9000, loss=[nan]\n",
      "Current iteration=9100, loss=[nan]\n",
      "Current iteration=9200, loss=[nan]\n",
      "Current iteration=9300, loss=[nan]\n",
      "Current iteration=9400, loss=[nan]\n",
      "Current iteration=9500, loss=[nan]\n",
      "Current iteration=9600, loss=[nan]\n",
      "Current iteration=9700, loss=[nan]\n",
      "Current iteration=9800, loss=[nan]\n",
      "Current iteration=9900, loss=[nan]\n"
     ]
    },
    {
     "data": {
      "text/plain": [
       "(array([[nan],\n",
       "        [nan],\n",
       "        [nan],\n",
       "        [nan],\n",
       "        [nan],\n",
       "        [nan],\n",
       "        [nan],\n",
       "        [nan],\n",
       "        [nan],\n",
       "        [nan],\n",
       "        [nan],\n",
       "        [nan],\n",
       "        [nan],\n",
       "        [nan],\n",
       "        [nan],\n",
       "        [nan],\n",
       "        [nan],\n",
       "        [nan],\n",
       "        [nan],\n",
       "        [nan],\n",
       "        [nan],\n",
       "        [nan],\n",
       "        [nan]]), array([nan]))"
      ]
     },
     "execution_count": 426,
     "metadata": {},
     "output_type": "execute_result"
    }
   ],
   "source": [
    "logistic_regression(y[0:10000], tX[0:10000])"
   ]
  },
  {
   "cell_type": "markdown",
   "metadata": {},
   "source": [
    "## Generate predictions and save ouput in csv format for submission:"
   ]
  },
  {
   "cell_type": "code",
   "execution_count": 10,
   "metadata": {},
   "outputs": [],
   "source": [
    "DATA_TEST_PATH = '' # TODO: download train data and supply path here \n",
    "_, tX_test, ids_test = load_csv_data(DATA_TEST_PATH)"
   ]
  },
  {
   "cell_type": "code",
   "execution_count": 31,
   "metadata": {},
   "outputs": [],
   "source": [
    "OUTPUT_PATH = '' # TODO: fill in desired name of output file for submission\n",
    "y_pred = predict_labels(weights, tX_test)\n",
    "create_csv_submission(ids_test, y_pred, OUTPUT_PATH)"
   ]
  },
  {
   "cell_type": "code",
   "execution_count": null,
   "metadata": {
    "collapsed": true
   },
   "outputs": [],
   "source": []
  }
 ],
 "metadata": {
  "anaconda-cloud": {},
  "kernelspec": {
   "display_name": "Python 3",
   "language": "python",
   "name": "python3"
  },
  "language_info": {
   "codemirror_mode": {
    "name": "ipython",
    "version": 3
   },
   "file_extension": ".py",
   "mimetype": "text/x-python",
   "name": "python",
   "nbconvert_exporter": "python",
   "pygments_lexer": "ipython3",
   "version": "3.7.3"
  }
 },
 "nbformat": 4,
 "nbformat_minor": 1
}
