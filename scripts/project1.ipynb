{
 "cells": [
  {
   "cell_type": "code",
   "execution_count": 1,
   "metadata": {},
   "outputs": [],
   "source": [
    "# Useful starting lines\n",
    "%matplotlib inline\n",
    "import numpy as np \n",
    "import matplotlib.pyplot as plt\n",
    "%load_ext autoreload\n",
    "%autoreload 2"
   ]
  },
  {
   "cell_type": "markdown",
   "metadata": {},
   "source": [
    "## Load the training data into feature matrix, class labels, and event ids:"
   ]
  },
  {
   "cell_type": "code",
   "execution_count": 2,
   "metadata": {},
   "outputs": [],
   "source": [
    "from proj1_helpers import *\n",
    "DATA_TRAIN_PATH = 'C:\\\\Users\\\\asus\\\\Documents\\\\GitHub\\\\ML_course\\\\projects\\\\project1\\\\data\\\\train.csv' # TODO: download train data and supply path here \n",
    "y, tX, ids = load_csv_data(DATA_TRAIN_PATH)"
   ]
  },
  {
   "cell_type": "markdown",
   "metadata": {},
   "source": [
    "## Do your thing crazy machine learning thing here :) ..."
   ]
  },
  {
   "cell_type": "code",
   "execution_count": 3,
   "metadata": {},
   "outputs": [],
   "source": [
    "from implementations import *"
   ]
  },
  {
   "cell_type": "code",
   "execution_count": 4,
   "metadata": {},
   "outputs": [],
   "source": [
    "#Normalize the data\n",
    "centered_data = tX - np.mean(tX, axis=0)\n",
    "tX = centered_data / np.std(centered_data, axis=0)\n",
    "y[y == -1] = 0"
   ]
  },
  {
   "cell_type": "code",
   "execution_count": 5,
   "metadata": {},
   "outputs": [
    {
     "name": "stdout",
     "output_type": "stream",
     "text": [
      "4 6\n",
      "4 12\n",
      "4 26\n",
      "4 27\n",
      "4 28\n",
      "6 12\n",
      "6 26\n",
      "6 27\n",
      "6 28\n",
      "9 29\n",
      "12 26\n",
      "12 27\n",
      "12 28\n",
      "23 24\n",
      "23 25\n",
      "24 25\n",
      "26 27\n",
      "26 28\n",
      "27 28\n"
     ]
    }
   ],
   "source": [
    "#Find the correlations btw all columns and delete rows that are highly correlated\n",
    "corr_mtx = np.identity(30)\n",
    "for i in range(31):\n",
    "    for j in range(i,30):\n",
    "        corr_mtx[i,j] = np.corrcoef(tX[:,i], tX[:,j])[0,1]\n",
    "        if corr_mtx[i,j]>0.95 and i!=j:\n",
    "            print(i,j)"
   ]
  },
  {
   "cell_type": "code",
   "execution_count": 6,
   "metadata": {},
   "outputs": [],
   "source": [
    "tX = np.delete(tX, np.array([6, 12,24,25,26,27,28,29]), axis=1)"
   ]
  },
  {
   "cell_type": "code",
   "execution_count": 7,
   "metadata": {},
   "outputs": [
    {
     "data": {
      "text/plain": [
       "(array([ 4.74321259e-02, -1.53963212e-01, -1.37635737e-01,  1.33744517e-01,\n",
       "         8.92468835e-02,  2.69903296e-01,  7.71949367e-02,  6.08511647e-02,\n",
       "         4.22754698e-02,  1.54108065e-03,  1.38481014e-01,  2.28383070e-01,\n",
       "         4.78779208e-04,  1.48033753e-04,  1.33319320e-01,  1.64120780e-03,\n",
       "         9.00020726e-04,  1.25322046e-01,  1.80818705e-03,  8.89206402e-02,\n",
       "         1.77560082e-02,  1.94047648e-01]), 1.132196427852129)"
      ]
     },
     "execution_count": 7,
     "metadata": {},
     "output_type": "execute_result"
    }
   ],
   "source": [
    "least_squares_GD(y, tX, np.ones(tX.shape[1]), 50, 0.3)"
   ]
  },
  {
   "cell_type": "code",
   "execution_count": 8,
   "metadata": {},
   "outputs": [
    {
     "data": {
      "text/plain": [
       "0.2945519130787804"
      ]
     },
     "execution_count": 8,
     "metadata": {},
     "output_type": "execute_result"
    },
    {
     "data": {
      "image/png": "[encoded data removed]",
      "text/plain": [
       "<Figure size 432x288 with 1 Axes>"
      ]
     },
     "metadata": {
      "needs_background": "light"
     },
     "output_type": "display_data"
    }
   ],
   "source": [
    "num_gamma = 10\n",
    "least_squares_loss = np.ones(num_gamma)\n",
    "gamma = np.logspace(-3, -1, num_gamma)\n",
    "for i in range(num_gamma):\n",
    "    least_squares_loss[i] = least_squares_GD(y, tX, np.ones(tX.shape[1]), 100, gamma[i])[1]\n",
    "plt.plot(gamma, least_squares_loss, 'ro')\n",
    "plt.xscale('log')\n",
    "np.min(least_squares_loss)"
   ]
  },
  {
   "cell_type": "code",
   "execution_count": 9,
   "metadata": {},
   "outputs": [
    {
     "data": {
      "text/plain": [
       "(array([-1.63558483e+36, -1.58028818e+36, -9.11379673e+35, -9.09855532e+34,\n",
       "        -1.97494806e+35, -2.79893350e+35, -7.34168307e+35, -7.44939125e+35,\n",
       "        -5.23057034e+35, -1.40520559e+36, -1.56277002e+35, -5.72984527e+35,\n",
       "         3.54107201e+35, -1.55479738e+35, -1.88677199e+36,  9.71227125e+34,\n",
       "         1.34741677e+36, -2.99397443e+35, -1.48784729e+36, -2.67267639e+35,\n",
       "        -2.44540147e+34,  4.61366082e+35]), 3.047099836278917e+73)"
      ]
     },
     "execution_count": 9,
     "metadata": {},
     "output_type": "execute_result"
    }
   ],
   "source": [
    "least_squares_SGD(y, tX, np.ones(tX.shape[1]), 200, 0.3)"
   ]
  },
  {
   "cell_type": "code",
   "execution_count": 10,
   "metadata": {},
   "outputs": [
    {
     "data": {
      "text/plain": [
       "0.4383246141539431"
      ]
     },
     "execution_count": 10,
     "metadata": {},
     "output_type": "execute_result"
    },
    {
     "data": {
      "image/png": "[encoded data removed]",
      "text/plain": [
       "<Figure size 432x288 with 1 Axes>"
      ]
     },
     "metadata": {
      "needs_background": "light"
     },
     "output_type": "display_data"
    }
   ],
   "source": [
    "num_gamma = 10\n",
    "least_squares_loss_SG = np.ones(num_gamma)\n",
    "gamma = gamma = np.logspace(-3, -1.5, num_gamma)\n",
    "for i in range(num_gamma):\n",
    "    least_squares_loss_SG[i] = least_squares_SGD(y, tX, np.ones(tX.shape[1]), 200, gamma[i])[1]\n",
    "plt.plot(gamma, least_squares_loss_SG, 'ro')\n",
    "plt.xscale('log')\n",
    "np.min(least_squares_loss_SG)"
   ]
  },
  {
   "cell_type": "code",
   "execution_count": 11,
   "metadata": {
    "scrolled": true
   },
   "outputs": [
    {
     "data": {
      "text/plain": [
       "(array([ 0.01457775, -0.12673899, -0.12745413, -0.01694001, -0.08993026,\n",
       "         0.20927023,  0.13388932, -0.00050725, -0.07308316, -0.09132203,\n",
       "         0.05763819,  0.11023857, -0.00032171, -0.00054586,  0.15797759,\n",
       "        -0.00043332,  0.0012556 ,  0.06044576,  0.00050283, -0.03165107,\n",
       "        -0.09071907,  0.07996976]), 0.28744464469757697)"
      ]
     },
     "execution_count": 11,
     "metadata": {},
     "output_type": "execute_result"
    }
   ],
   "source": [
    "least_squares(y, tX)"
   ]
  },
  {
   "cell_type": "code",
   "execution_count": 12,
   "metadata": {},
   "outputs": [
    {
     "data": {
      "text/plain": [
       "(array([ 0.02074855, -0.11421443, -0.0920186 , -0.00077868, -0.04247097,\n",
       "         0.13761996,  0.10431579, -0.00810759, -0.03863204, -0.06988994,\n",
       "         0.05813532,  0.09582814, -0.00044968, -0.00074823,  0.10749807,\n",
       "        -0.00036194,  0.00119516,  0.04380157,  0.00059088, -0.03638813,\n",
       "        -0.06717489,  0.05004489]), 0.2906412127080359)"
      ]
     },
     "execution_count": 12,
     "metadata": {},
     "output_type": "execute_result"
    }
   ],
   "source": [
    "ridge_regression(y, tX, 0.02)"
   ]
  },
  {
   "cell_type": "code",
   "execution_count": 13,
   "metadata": {},
   "outputs": [
    {
     "data": {
      "text/plain": [
       "0.28744640480134276"
      ]
     },
     "execution_count": 13,
     "metadata": {},
     "output_type": "execute_result"
    },
    {
     "data": {
      "image/png": "[encoded data removed]",
      "text/plain": [
       "<Figure size 432x288 with 1 Axes>"
      ]
     },
     "metadata": {
      "needs_background": "light"
     },
     "output_type": "display_data"
    }
   ],
   "source": [
    "num_lambda = 10\n",
    "ridge_regression_loss = np.ones(num_lambda)\n",
    "lambda_ =  np.logspace(-5, 0, num_lambda)\n",
    "for i in range(num_lambda):\n",
    "    ridge_regression_loss[i] = ridge_regression(y, tX, lambda_[i])[1]\n",
    "plt.plot(lambda_, ridge_regression_loss, 'ro')\n",
    "plt.xscale('log')\n",
    "np.min(ridge_regression_loss)"
   ]
  },
  {
   "cell_type": "code",
   "execution_count": 159,
   "metadata": {},
   "outputs": [],
   "source": [
    "from implementations import *"
   ]
  },
  {
   "cell_type": "code",
   "execution_count": 184,
   "metadata": {
    "scrolled": true
   },
   "outputs": [
    {
     "data": {
      "text/plain": [
       "(array([ 6.06141421e-01,  1.08213957e-01, -1.55596451e-01,  2.35580435e-03,\n",
       "         9.59173419e-02,  6.29726838e-02,  8.78330141e-02,  1.01639097e-02,\n",
       "        -5.57404974e-03,  7.64100957e-02, -9.21793152e-02,  1.25360444e-01,\n",
       "         1.15504886e-01,  9.28510177e-03, -2.10230041e-04, -1.13927451e-02,\n",
       "         4.20613967e-03,  7.50216296e-03,  2.14320453e-02, -1.61907751e-03,\n",
       "         6.70032082e-02,  5.91413697e-02,  7.56913768e-02]),\n",
       " 0.7748268588155651)"
      ]
     },
     "execution_count": 184,
     "metadata": {},
     "output_type": "execute_result"
    }
   ],
   "source": [
    "logistic_regression(y[0:10000], tX[0:10000], np.zeros(tX.shape[1]), 100000, 1)"
   ]
  },
  {
   "cell_type": "code",
   "execution_count": 193,
   "metadata": {
    "scrolled": true
   },
   "outputs": [
    {
     "data": {
      "text/plain": [
       "(array([ 5.96141421e-01,  1.08213957e-01, -1.55596451e-01,  2.35580435e-03,\n",
       "         9.59173419e-02,  6.29726838e-02,  8.78330141e-02,  1.01639097e-02,\n",
       "        -5.57404974e-03,  7.64100957e-02, -9.21793152e-02,  1.25360444e-01,\n",
       "         1.15504886e-01,  9.28510177e-03, -2.10230041e-04, -1.13927451e-02,\n",
       "         4.20613967e-03,  7.50216296e-03,  2.14320453e-02, -1.61907751e-03,\n",
       "         6.70032082e-02,  5.91413697e-02,  7.56913768e-02]),\n",
       " 0.7742459327447615)"
      ]
     },
     "execution_count": 193,
     "metadata": {},
     "output_type": "execute_result"
    }
   ],
   "source": [
    "reg_logistic_regression(y[0:10000], tX[0:10000], 0.01, np.zeros(tX.shape[1]), 10000, 1)"
   ]
  },
  {
   "cell_type": "code",
   "execution_count": 235,
   "metadata": {},
   "outputs": [
    {
     "data": {
      "image/png": "[encoded data removed]",
      "text/plain": [
       "<Figure size 432x288 with 1 Axes>"
      ]
     },
     "metadata": {
      "needs_background": "light"
     },
     "output_type": "display_data"
    }
   ],
   "source": [
    "tr, te, gammas = cross_validation_gamma(y[0:10000], tX[0:10000])"
   ]
  },
  {
   "cell_type": "code",
   "execution_count": 236,
   "metadata": {},
   "outputs": [
    {
     "data": {
      "image/png": "[encoded data removed]",
      "text/plain": [
       "<Figure size 432x288 with 1 Axes>"
      ]
     },
     "metadata": {
      "needs_background": "light"
     },
     "output_type": "display_data"
    }
   ],
   "source": [
    "tr, te, lambdas = cross_validation_lambda(y[0:10000], tX[0:10000])"
   ]
  },
  {
   "cell_type": "markdown",
   "metadata": {},
   "source": [
    "## Generate predictions and save ouput in csv format for submission:"
   ]
  },
  {
   "cell_type": "code",
   "execution_count": 10,
   "metadata": {},
   "outputs": [],
   "source": [
    "DATA_TEST_PATH = '' # TODO: download train data and supply path here \n",
    "_, tX_test, ids_test = load_csv_data(DATA_TEST_PATH)"
   ]
  },
  {
   "cell_type": "code",
   "execution_count": 31,
   "metadata": {},
   "outputs": [],
   "source": [
    "OUTPUT_PATH = '' # TODO: fill in desired name of output file for submission\n",
    "y_pred = predict_labels(weights, tX_test)\n",
    "create_csv_submission(ids_test, y_pred, OUTPUT_PATH)"
   ]
  },
  {
   "cell_type": "code",
   "execution_count": null,
   "metadata": {
    "collapsed": true
   },
   "outputs": [],
   "source": []
  }
 ],
 "metadata": {
  "anaconda-cloud": {},
  "kernelspec": {
   "display_name": "Python 3",
   "language": "python",
   "name": "python3"
  },
  "language_info": {
   "codemirror_mode": {
    "name": "ipython",
    "version": 3
   },
   "file_extension": ".py",
   "mimetype": "text/x-python",
   "name": "python",
   "nbconvert_exporter": "python",
   "pygments_lexer": "ipython3",
   "version": "3.7.3"
  }
 },
 "nbformat": 4,
 "nbformat_minor": 1
}
